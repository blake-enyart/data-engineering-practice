{
 "cells": [
  {
   "cell_type": "code",
   "execution_count": 1,
   "metadata": {},
   "outputs": [
    {
     "name": "stdout",
     "output_type": "stream",
     "text": [
      "Requirement already satisfied: boto3==1.21.2 in /Users/blakeenyart/programming/projects/sandbox/data-engineering-practice/.venv/lib/python3.11/site-packages (1.21.2)\n",
      "Requirement already satisfied: botocore<1.25.0,>=1.24.2 in /Users/blakeenyart/programming/projects/sandbox/data-engineering-practice/.venv/lib/python3.11/site-packages (from boto3==1.21.2) (1.24.46)\n",
      "Requirement already satisfied: jmespath<1.0.0,>=0.7.1 in /Users/blakeenyart/programming/projects/sandbox/data-engineering-practice/.venv/lib/python3.11/site-packages (from boto3==1.21.2) (0.10.0)\n",
      "Requirement already satisfied: s3transfer<0.6.0,>=0.5.0 in /Users/blakeenyart/programming/projects/sandbox/data-engineering-practice/.venv/lib/python3.11/site-packages (from boto3==1.21.2) (0.5.2)\n",
      "Requirement already satisfied: python-dateutil<3.0.0,>=2.1 in /Users/blakeenyart/programming/projects/sandbox/data-engineering-practice/.venv/lib/python3.11/site-packages (from botocore<1.25.0,>=1.24.2->boto3==1.21.2) (2.8.2)\n",
      "Requirement already satisfied: urllib3<1.27,>=1.25.4 in /Users/blakeenyart/programming/projects/sandbox/data-engineering-practice/.venv/lib/python3.11/site-packages (from botocore<1.25.0,>=1.24.2->boto3==1.21.2) (1.26.14)\n",
      "Requirement already satisfied: six>=1.5 in /Users/blakeenyart/programming/projects/sandbox/data-engineering-practice/.venv/lib/python3.11/site-packages (from python-dateutil<3.0.0,>=2.1->botocore<1.25.0,>=1.24.2->boto3==1.21.2) (1.16.0)\n",
      "\n",
      "\u001b[1m[\u001b[0m\u001b[34;49mnotice\u001b[0m\u001b[1;39;49m]\u001b[0m\u001b[39;49m A new release of pip available: \u001b[0m\u001b[31;49m22.3.1\u001b[0m\u001b[39;49m -> \u001b[0m\u001b[32;49m23.0.1\u001b[0m\n",
      "\u001b[1m[\u001b[0m\u001b[34;49mnotice\u001b[0m\u001b[1;39;49m]\u001b[0m\u001b[39;49m To update, run: \u001b[0m\u001b[32;49mpip install --upgrade pip\u001b[0m\n",
      "Note: you may need to restart the kernel to use updated packages.\n"
     ]
    }
   ],
   "source": [
    "%pip install boto3==1.21.2"
   ]
  },
  {
   "cell_type": "code",
   "execution_count": 2,
   "metadata": {},
   "outputs": [
    {
     "name": "stdout",
     "output_type": "stream",
     "text": [
      "Active token found!\n"
     ]
    }
   ],
   "source": [
    "# Import required packages and establish session with default credentials\n",
    "\n",
    "import boto3\n",
    "import os\n",
    "import io\n",
    "import gzip\n",
    "import shutil\n",
    "\n",
    "# Set up the Boto3 session\n",
    "session = boto3.Session()\n",
    "\n",
    "# Check if an active token is present\n",
    "sts_client = session.client(\"sts\")\n",
    "try:\n",
    "    sts_client.get_caller_identity()\n",
    "    print(\"Active token found!\")\n",
    "except boto3.exceptions.botocore.exceptions.NoCredentialsError:\n",
    "    print(\"No active token found.\")\n",
    "    # Prompt for MFA code\n",
    "    mfa_token = input(\"Enter MFA token code: \")\n",
    "\n",
    "    # Assume role with MFA credentials\n",
    "    sts_client = session.client(\"sts\")\n",
    "    response = sts_client.assume_role(\n",
    "        RoleArn=\"arn:aws:iam::251357961920:role/AdminAccess\",\n",
    "        RoleSessionName=\"my-role-session\",\n",
    "        TokenCode=mfa_token,\n",
    "    )\n",
    "\n",
    "    # Set up a new Boto3 session with the assumed role credentials\n",
    "    session = boto3.Session(\n",
    "        aws_access_key_id=response[\"Credentials\"][\"AccessKeyId\"],\n",
    "        aws_secret_access_key=response[\"Credentials\"][\"SecretAccessKey\"],\n",
    "        aws_session_token=response[\"Credentials\"][\"SessionToken\"],\n",
    "    )\n",
    "    print(\"Assumed role with MFA credentials!\")\n"
   ]
  },
  {
   "cell_type": "code",
   "execution_count": 3,
   "metadata": {},
   "outputs": [],
   "source": [
    "# Open S3 connection and set variables\n",
    "\n",
    "s3 = session.client(\"s3\")\n",
    "\n",
    "# Replace 'bucket-name' and 'object-key' with the actual values\n",
    "bucket_name = \"commoncrawl\"\n",
    "object_key = \"crawl-data/CC-MAIN-2022-05/wet.paths.gz\"\n",
    "project_path = \"/Users/blakeenyart/programming/projects/sandbox/data-engineering-practice/Exercises/Exercise-3\""
   ]
  },
  {
   "cell_type": "code",
   "execution_count": 4,
   "metadata": {},
   "outputs": [],
   "source": [
    "# Get the object from the bucket\n",
    "content = s3.get_object(Bucket=bucket_name, Key=object_key)['Body'].read()"
   ]
  },
  {
   "cell_type": "code",
   "execution_count": 5,
   "metadata": {},
   "outputs": [
    {
     "name": "stdout",
     "output_type": "stream",
     "text": [
      "crawl-data/CC-MAIN-2022-05/segments/1642320299852.23/wet/CC-MAIN-20220116093137-20220116123137-00000.warc.wet.gz\n"
     ]
    }
   ],
   "source": [
    "extracted_file_path = os.path.join(project_path, object_key.split('/')[-1][:-3])\n",
    "\n",
    "next_object_key = ''\n",
    "\n",
    "# Extract the .gz file to a new file\n",
    "with gzip.GzipFile(fileobj=io.BytesIO(content)) as file:\n",
    "    for line in file:\n",
    "        clean_line = line.decode().strip()\n",
    "        print(clean_line)\n",
    "        next_object_key = clean_line\n",
    "        break"
   ]
  },
  {
   "cell_type": "code",
   "execution_count": 6,
   "metadata": {},
   "outputs": [],
   "source": [
    "# Download much larger file indicated from the file path above\n",
    "next_local_gz_path = os.path.join(project_path, next_object_key.split('/')[-1])\n",
    "\n",
    "# Get the object from the bucket\n",
    "s3.download_file(bucket_name, next_object_key, next_local_gz_path)"
   ]
  },
  {
   "cell_type": "code",
   "execution_count": 15,
   "metadata": {},
   "outputs": [],
   "source": [
    "# Extract the .gz file to a new file\n",
    "next_extracted_file_path = os.path.join(project_path, next_object_key.split('/')[-1][:-3])\n",
    "\n",
    "with gzip.open(next_local_gz_path, \"rb\") as f_in:\n",
    "    with open(next_extracted_file_path, \"wb\") as f_out:\n",
    "        shutil.copyfileobj(f_in, f_out)"
   ]
  },
  {
   "cell_type": "code",
   "execution_count": 21,
   "metadata": {},
   "outputs": [
    {
     "name": "stdout",
     "output_type": "stream",
     "text": [
      "WARC/1.0\n",
      "WARC-Type: warcinfo\n",
      "WARC-Date: 2022-01-29T16:59:40Z\n",
      "WARC-Filename: CC-MAIN-20220116093137-20220116123137-00000.warc.wet.gz\n",
      "WARC-Record-ID: <urn:uuid:ffbe2340-34aa-43df-9b03-232751f3fbb8>\n",
      "Content-Type: application/warc-fields\n",
      "Content-Length: 372\n",
      "\n",
      "Software-Info: ia-web-commons.1.1.10-SNAPSHOT-20220113011612\n",
      "Extracted-Date: Sat, 29 Jan 2022 16:59:40 GMT\n"
     ]
    }
   ],
   "source": [
    "# Stream the output of the file to the terminal\n",
    "with open(next_extracted_file_path) as file:\n",
    "    i = 0\n",
    "    for line in file:\n",
    "        print(line.strip())\n",
    "        # Limit output to reduce local usage\n",
    "        i += 1\n",
    "        if i == 10:\n",
    "            break"
   ]
  },
  {
   "cell_type": "code",
   "execution_count": null,
   "metadata": {},
   "outputs": [],
   "source": [
    "# File clean-up afterwards\n",
    "os.remove(next_extracted_file_path)\n",
    "os.remove(next_local_gz_path)"
   ]
  }
 ],
 "metadata": {
  "kernelspec": {
   "display_name": ".venv",
   "language": "python",
   "name": "python3"
  },
  "language_info": {
   "codemirror_mode": {
    "name": "ipython",
    "version": 3
   },
   "file_extension": ".py",
   "mimetype": "text/x-python",
   "name": "python",
   "nbconvert_exporter": "python",
   "pygments_lexer": "ipython3",
   "version": "3.11.1"
  },
  "orig_nbformat": 4
 },
 "nbformat": 4,
 "nbformat_minor": 2
}
